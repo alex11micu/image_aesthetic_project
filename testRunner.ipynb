{
 "cells": [
  {
   "cell_type": "code",
   "execution_count": null,
   "id": "92882fe7-2715-4b83-9ef6-2e16d30a6831",
   "metadata": {},
   "outputs": [
    {
     "name": "stdout",
     "output_type": "stream",
     "text": [
      "============================================================\n",
      "COMPARING MULTIPLE MODELS ON CONSISTENT TEST SET\n",
      "============================================================\n",
      "Testing model: ckpt/training_progress_epoch_20.pt\n",
      "Using device: cuda\n",
      "GPU Memory - Total: 16.0GB, Free: 15.6GB\n",
      "Optimal batch size: 124\n",
      "Loading consistent test set from split_utils.py...\n",
      "Test set size: 38327 images\n",
      "Train set size: 184603 images\n",
      "Validation set size: 32578 images\n",
      "Testing on 38327 images from consistent test set\n",
      "Loading model from ckpt/training_progress_epoch_20.pt...\n",
      "Detected HybridAestheticModel checkpoint\n",
      "✅ Basic model loaded successfully\n",
      "Using BasicTestDataset for basic model\n"
     ]
    },
    {
     "name": "stderr",
     "output_type": "stream",
     "text": [
      "Testing:   0%|          | 0/310 [00:00<?, ?batch/s]"
     ]
    }
   ],
   "source": [
    "from test_metrics.test import compare_models\n",
    "\n",
    "# List all your checkpoint paths\n",
    "checkpoint_paths = [\n",
    "    \"ckpt/training_progress_epoch_20.pt\",\n",
    "    \"ckpt/training_progress_epoch_30.pt\",\n",
    "    \"ckpt/training_progress_epoch_40.pt\",\n",
    "    \"ckpt/checkpoint_epoch_20_val_loss_13.3186.pt\",\n",
    "    \"ckpt/checkpoint_epoch_30_val_loss_11.8617.pt\",\n",
    "    \"ckpt/checkpoint_epoch_40_val_loss_11.8626.pt\",\n",
    "    \"ckpt/best_model_epoch_16_val_loss_3.3005.pt\",\n",
    "\n",
    "    # Previous checkpoints (commented out for reference):\n",
    "    # \"ckpt/best_model_epoch_1_val_loss_4.7535.pt\",\n",
    "    # \"ckpt/best_model_epoch_2_val_loss_3.5891.pt\",\n",
    "    # \"ckpt/best_model_epoch_5_val_loss_3.2687.pt\",\n",
    "]\n",
    "\n",
    "# Compare all models on the same test set\n",
    "results = compare_models(checkpoint_paths)\n",
    "\n",
    "print(\"\\nComparison complete! Check the test_metrics/model_comparison/ directory for results.\")"
   ]
  },
  {
   "cell_type": "code",
   "execution_count": null,
   "id": "34fd4f8d-4dce-4f93-9e8b-c04a342905b1",
   "metadata": {},
   "outputs": [],
   "source": []
  }
 ],
 "metadata": {
  "kernelspec": {
   "display_name": "dsm",
   "language": "python",
   "name": "python3"
  },
  "language_info": {
   "codemirror_mode": {
    "name": "ipython",
    "version": 3
   },
   "file_extension": ".py",
   "mimetype": "text/x-python",
   "name": "python",
   "nbconvert_exporter": "python",
   "pygments_lexer": "ipython3",
   "version": "3.12.7"
  }
 },
 "nbformat": 4,
 "nbformat_minor": 5
}
